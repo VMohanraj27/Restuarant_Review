{
 "cells": [
  {
   "cell_type": "code",
   "execution_count": 1,
   "id": "ac462e01",
   "metadata": {},
   "outputs": [],
   "source": [
    "import pandas as pd\n",
    "import numpy  as np\n",
    "import matplotlib.pyplot as plt\n",
    "import seaborn as sns"
   ]
  },
  {
   "cell_type": "code",
   "execution_count": 3,
   "id": "708ef648",
   "metadata": {},
   "outputs": [],
   "source": [
    "df = pd.read_table(r'C:\\Users\\Lenovo\\Documents\\Verzeo\\Restaurant_Reviews.tsv', sep='\\t')"
   ]
  },
  {
   "cell_type": "code",
   "execution_count": 4,
   "id": "cf7fda09",
   "metadata": {},
   "outputs": [
    {
     "data": {
      "text/html": [
       "<div>\n",
       "<style scoped>\n",
       "    .dataframe tbody tr th:only-of-type {\n",
       "        vertical-align: middle;\n",
       "    }\n",
       "\n",
       "    .dataframe tbody tr th {\n",
       "        vertical-align: top;\n",
       "    }\n",
       "\n",
       "    .dataframe thead th {\n",
       "        text-align: right;\n",
       "    }\n",
       "</style>\n",
       "<table border=\"1\" class=\"dataframe\">\n",
       "  <thead>\n",
       "    <tr style=\"text-align: right;\">\n",
       "      <th></th>\n",
       "      <th>Review</th>\n",
       "      <th>Liked</th>\n",
       "    </tr>\n",
       "  </thead>\n",
       "  <tbody>\n",
       "    <tr>\n",
       "      <th>0</th>\n",
       "      <td>Wow... Loved this place.</td>\n",
       "      <td>1</td>\n",
       "    </tr>\n",
       "    <tr>\n",
       "      <th>1</th>\n",
       "      <td>Crust is not good.</td>\n",
       "      <td>0</td>\n",
       "    </tr>\n",
       "    <tr>\n",
       "      <th>2</th>\n",
       "      <td>Not tasty and the texture was just nasty.</td>\n",
       "      <td>0</td>\n",
       "    </tr>\n",
       "    <tr>\n",
       "      <th>3</th>\n",
       "      <td>Stopped by during the late May bank holiday of...</td>\n",
       "      <td>1</td>\n",
       "    </tr>\n",
       "    <tr>\n",
       "      <th>4</th>\n",
       "      <td>The selection on the menu was great and so wer...</td>\n",
       "      <td>1</td>\n",
       "    </tr>\n",
       "  </tbody>\n",
       "</table>\n",
       "</div>"
      ],
      "text/plain": [
       "                                              Review  Liked\n",
       "0                           Wow... Loved this place.      1\n",
       "1                                 Crust is not good.      0\n",
       "2          Not tasty and the texture was just nasty.      0\n",
       "3  Stopped by during the late May bank holiday of...      1\n",
       "4  The selection on the menu was great and so wer...      1"
      ]
     },
     "execution_count": 4,
     "metadata": {},
     "output_type": "execute_result"
    }
   ],
   "source": [
    "df.head()"
   ]
  },
  {
   "cell_type": "code",
   "execution_count": 5,
   "id": "5f9bff36",
   "metadata": {},
   "outputs": [
    {
     "name": "stdout",
     "output_type": "stream",
     "text": [
      "<class 'pandas.core.frame.DataFrame'>\n",
      "RangeIndex: 1000 entries, 0 to 999\n",
      "Data columns (total 2 columns):\n",
      " #   Column  Non-Null Count  Dtype \n",
      "---  ------  --------------  ----- \n",
      " 0   Review  1000 non-null   object\n",
      " 1   Liked   1000 non-null   int64 \n",
      "dtypes: int64(1), object(1)\n",
      "memory usage: 15.8+ KB\n"
     ]
    }
   ],
   "source": [
    "df.info()"
   ]
  },
  {
   "cell_type": "code",
   "execution_count": 6,
   "id": "4bc1238d",
   "metadata": {},
   "outputs": [
    {
     "data": {
      "text/plain": [
       "array([1, 0], dtype=int64)"
      ]
     },
     "execution_count": 6,
     "metadata": {},
     "output_type": "execute_result"
    }
   ],
   "source": [
    "df['Liked'].unique()"
   ]
  },
  {
   "cell_type": "code",
   "execution_count": 7,
   "id": "dddda535",
   "metadata": {},
   "outputs": [
    {
     "data": {
      "text/plain": [
       "2"
      ]
     },
     "execution_count": 7,
     "metadata": {},
     "output_type": "execute_result"
    }
   ],
   "source": [
    "df['Liked'].nunique()"
   ]
  },
  {
   "cell_type": "code",
   "execution_count": 8,
   "id": "f8fc058c",
   "metadata": {},
   "outputs": [
    {
     "data": {
      "text/plain": [
       "0    500\n",
       "1    500\n",
       "Name: Liked, dtype: int64"
      ]
     },
     "execution_count": 8,
     "metadata": {},
     "output_type": "execute_result"
    }
   ],
   "source": [
    "df['Liked'].value_counts()"
   ]
  },
  {
   "cell_type": "code",
   "execution_count": 9,
   "id": "ba96abf7",
   "metadata": {},
   "outputs": [
    {
     "data": {
      "text/plain": [
       "<AxesSubplot:>"
      ]
     },
     "execution_count": 9,
     "metadata": {},
     "output_type": "execute_result"
    },
    {
     "data": {
      "image/png": "[encoded data removed]",
      "text/plain": [
       "<Figure size 432x288 with 2 Axes>"
      ]
     },
     "metadata": {
      "needs_background": "light"
     },
     "output_type": "display_data"
    }
   ],
   "source": [
    "sns.heatmap(df.isnull(),yticklabels=False,cmap='viridis')"
   ]
  },
  {
   "cell_type": "code",
   "execution_count": 11,
   "id": "c8eccb20",
   "metadata": {},
   "outputs": [
    {
     "data": {
      "text/plain": [
       "(1000, 2)"
      ]
     },
     "execution_count": 11,
     "metadata": {},
     "output_type": "execute_result"
    }
   ],
   "source": [
    "df.shape"
   ]
  },
  {
   "cell_type": "markdown",
   "id": "774cdaae",
   "metadata": {},
   "source": [
    "EDA - Exploratory Data Analysis"
   ]
  },
  {
   "cell_type": "code",
   "execution_count": 12,
   "id": "4fdbd934",
   "metadata": {},
   "outputs": [
    {
     "data": {
      "text/plain": [
       "<AxesSubplot:>"
      ]
     },
     "execution_count": 12,
     "metadata": {},
     "output_type": "execute_result"
    },
    {
     "data": {
      "image/png": "[encoded data removed]",
      "text/plain": [
       "<Figure size 432x288 with 1 Axes>"
      ]
     },
     "metadata": {
      "needs_background": "light"
     },
     "output_type": "display_data"
    }
   ],
   "source": [
    "df['Liked'].value_counts().plot(kind='bar')"
   ]
  },
  {
   "cell_type": "code",
   "execution_count": 17,
   "id": "fb18b2a8",
   "metadata": {},
   "outputs": [],
   "source": [
    "import nltk\n",
    "import string\n",
    "from nltk.corpus import stopwords\n",
    "from nltk.tokenize import RegexpTokenizer\n",
    "from nltk.stem import WordNetLemmatizer\n",
    "from nltk.stem.porter import PorterStemmer"
   ]
  },
  {
   "cell_type": "code",
   "execution_count": 18,
   "id": "e4a25649",
   "metadata": {},
   "outputs": [],
   "source": [
    "def remove_punctuation(text):\n",
    "    no_punct = \"\".join([c for c in text if c not in string.punctuation])\n",
    "    return no_punct"
   ]
  },
  {
   "cell_type": "code",
   "execution_count": 19,
   "id": "4db3cc3a",
   "metadata": {},
   "outputs": [
    {
     "data": {
      "text/plain": [
       "0                                 Wow Loved this place\n",
       "1                                    Crust is not good\n",
       "2             Not tasty and the texture was just nasty\n",
       "3    Stopped by during the late May bank holiday of...\n",
       "4    The selection on the menu was great and so wer...\n",
       "Name: Review, dtype: object"
      ]
     },
     "execution_count": 19,
     "metadata": {},
     "output_type": "execute_result"
    }
   ],
   "source": [
    "df['Review'] = df['Review'].apply(lambda x: remove_punctuation(x))\n",
    "df['Review'].head()"
   ]
  },
  {
   "cell_type": "code",
   "execution_count": 20,
   "id": "9b7976e7",
   "metadata": {},
   "outputs": [
    {
     "data": {
      "text/plain": [
       "0                            [wow, loved, this, place]\n",
       "1                               [crust, is, not, good]\n",
       "2    [not, tasty, and, the, texture, was, just, nasty]\n",
       "3    [stopped, by, during, the, late, may, bank, ho...\n",
       "4    [the, selection, on, the, menu, was, great, an...\n",
       "Name: Review, dtype: object"
      ]
     },
     "execution_count": 20,
     "metadata": {},
     "output_type": "execute_result"
    }
   ],
   "source": [
    "tokenizer = RegexpTokenizer(r'\\w+')\n",
    "df['Review'] = df['Review'].apply(lambda x: tokenizer.tokenize(x.lower()))\n",
    "df['Review'].head()"
   ]
  },
  {
   "cell_type": "code",
   "execution_count": 21,
   "id": "70e0550d",
   "metadata": {},
   "outputs": [],
   "source": [
    "lemmatizer = WordNetLemmatizer()\n",
    "\n",
    "def word_lemmatizer(text):\n",
    "    lem_text = [lemmatizer.lemmatize(i) for i in text]\n",
    "    return lem_text"
   ]
  },
  {
   "cell_type": "code",
   "execution_count": 22,
   "id": "8d5a8e9c",
   "metadata": {},
   "outputs": [
    {
     "data": {
      "text/plain": [
       "0                            [wow, loved, this, place]\n",
       "1                               [crust, is, not, good]\n",
       "2    [not, tasty, and, the, texture, was, just, nasty]\n",
       "3    [stopped, by, during, the, late, may, bank, ho...\n",
       "4    [the, selection, on, the, menu, was, great, an...\n",
       "Name: Review, dtype: object"
      ]
     },
     "execution_count": 22,
     "metadata": {},
     "output_type": "execute_result"
    }
   ],
   "source": [
    "df['Review'].apply(lambda x: word_lemmatizer(x))\n",
    "df['Review'].head()"
   ]
  },
  {
   "cell_type": "code",
   "execution_count": 23,
   "id": "16c1839a",
   "metadata": {},
   "outputs": [],
   "source": [
    "stemmer = PorterStemmer()\n",
    "\n",
    "def word_stemmer(text):\n",
    "    stem_text = \" \".join([stemmer.stem(i) for i in text])\n",
    "    return stem_text"
   ]
  },
  {
   "cell_type": "code",
   "execution_count": 24,
   "id": "a64a38a3",
   "metadata": {},
   "outputs": [
    {
     "data": {
      "text/plain": [
       "0                                     wow love thi place\n",
       "1                                      crust is not good\n",
       "2                 not tasti and the textur wa just nasti\n",
       "3      stop by dure the late may bank holiday off ric...\n",
       "4      the select on the menu wa great and so were th...\n",
       "                             ...                        \n",
       "995    i think food should have flavor and textur and...\n",
       "996                               appetit instantli gone\n",
       "997        overal i wa not impress and would not go back\n",
       "998    the whole experi wa underwhelm and i think wel...\n",
       "999    then as if i hadnt wast enough of my life ther...\n",
       "Name: Review, Length: 1000, dtype: object"
      ]
     },
     "execution_count": 24,
     "metadata": {},
     "output_type": "execute_result"
    }
   ],
   "source": [
    "df['Review'] = df['Review'].apply(lambda x: word_stemmer(x))\n",
    "df['Review']"
   ]
  },
  {
   "cell_type": "code",
   "execution_count": 53,
   "id": "9f740b95",
   "metadata": {},
   "outputs": [],
   "source": [
    "X = df['Review']\n",
    "y = df['Liked']"
   ]
  },
  {
   "cell_type": "code",
   "execution_count": 59,
   "id": "bad59888",
   "metadata": {},
   "outputs": [],
   "source": [
    "from sklearn.pipeline import Pipeline\n",
    "from sklearn.feature_extraction.text import CountVectorizer\n",
    "count_vectorizer = CountVectorizer(stop_words='english')"
   ]
  },
  {
   "cell_type": "code",
   "execution_count": 60,
   "id": "8297e0f2",
   "metadata": {},
   "outputs": [],
   "source": [
    "from sklearn.svm import SVC\n",
    "model1 = SVC()\n",
    "from sklearn.naive_bayes import MultinomialNB\n",
    "model2 = MultinomialNB()"
   ]
  },
  {
   "cell_type": "code",
   "execution_count": 61,
   "id": "d45ae1c5",
   "metadata": {},
   "outputs": [],
   "source": [
    "from sklearn.model_selection import train_test_split\n",
    "X_train,X_test,y_train,y_test = train_test_split(X,y,test_size=0.3,random_state=101)"
   ]
  },
  {
   "cell_type": "code",
   "execution_count": 62,
   "id": "d2b0038d",
   "metadata": {},
   "outputs": [
    {
     "data": {
      "text/plain": [
       "(700,)"
      ]
     },
     "execution_count": 62,
     "metadata": {},
     "output_type": "execute_result"
    }
   ],
   "source": [
    "X_train.shape"
   ]
  },
  {
   "cell_type": "code",
   "execution_count": 63,
   "id": "401efb0c",
   "metadata": {},
   "outputs": [
    {
     "data": {
      "text/plain": [
       "(700,)"
      ]
     },
     "execution_count": 63,
     "metadata": {},
     "output_type": "execute_result"
    }
   ],
   "source": [
    "y_train.shape"
   ]
  },
  {
   "cell_type": "code",
   "execution_count": 64,
   "id": "15286ce9",
   "metadata": {},
   "outputs": [
    {
     "data": {
      "text/plain": [
       "(300,)"
      ]
     },
     "execution_count": 64,
     "metadata": {},
     "output_type": "execute_result"
    }
   ],
   "source": [
    "X_test.shape"
   ]
  },
  {
   "cell_type": "code",
   "execution_count": 65,
   "id": "26f432bc",
   "metadata": {},
   "outputs": [
    {
     "data": {
      "text/plain": [
       "(300,)"
      ]
     },
     "execution_count": 65,
     "metadata": {},
     "output_type": "execute_result"
    }
   ],
   "source": [
    "y_test.shape"
   ]
  },
  {
   "cell_type": "code",
   "execution_count": 66,
   "id": "e697bf49",
   "metadata": {},
   "outputs": [],
   "source": [
    "X_train_vect = count_vectorizer.fit_transform(X_train).toarray()"
   ]
  },
  {
   "cell_type": "code",
   "execution_count": 67,
   "id": "e982e369",
   "metadata": {},
   "outputs": [
    {
     "data": {
      "text/plain": [
       "array([[0, 0, 0, ..., 0, 0, 0],\n",
       "       [0, 0, 0, ..., 0, 0, 0],\n",
       "       [0, 0, 0, ..., 0, 0, 0],\n",
       "       ...,\n",
       "       [0, 0, 0, ..., 0, 0, 0],\n",
       "       [0, 0, 0, ..., 0, 0, 0],\n",
       "       [0, 0, 0, ..., 0, 0, 0]], dtype=int64)"
      ]
     },
     "execution_count": 67,
     "metadata": {},
     "output_type": "execute_result"
    }
   ],
   "source": [
    "X_train_vect"
   ]
  },
  {
   "cell_type": "code",
   "execution_count": 68,
   "id": "8b84cbdf",
   "metadata": {},
   "outputs": [],
   "source": [
    "X_test_vect = count_vectorizer.transform(X_test).toarray()"
   ]
  },
  {
   "cell_type": "code",
   "execution_count": 69,
   "id": "cf57d1fc",
   "metadata": {},
   "outputs": [
    {
     "data": {
      "text/plain": [
       "array([[0, 0, 0, ..., 0, 0, 0],\n",
       "       [0, 0, 0, ..., 0, 0, 0],\n",
       "       [0, 0, 0, ..., 0, 0, 0],\n",
       "       ...,\n",
       "       [0, 0, 0, ..., 0, 0, 0],\n",
       "       [0, 0, 0, ..., 0, 0, 0],\n",
       "       [0, 0, 0, ..., 0, 0, 0]], dtype=int64)"
      ]
     },
     "execution_count": 69,
     "metadata": {},
     "output_type": "execute_result"
    }
   ],
   "source": [
    "X_test_vect"
   ]
  },
  {
   "cell_type": "code",
   "execution_count": 70,
   "id": "cec5ee54",
   "metadata": {},
   "outputs": [
    {
     "data": {
      "text/plain": [
       "SVC()"
      ]
     },
     "execution_count": 70,
     "metadata": {},
     "output_type": "execute_result"
    }
   ],
   "source": [
    "model1.fit(X_train_vect,y_train)"
   ]
  },
  {
   "cell_type": "code",
   "execution_count": 71,
   "id": "2cfe4cd6",
   "metadata": {},
   "outputs": [],
   "source": [
    "y_pred1 = model1.predict(X_test_vect)"
   ]
  },
  {
   "cell_type": "code",
   "execution_count": 72,
   "id": "56096a8b",
   "metadata": {},
   "outputs": [
    {
     "name": "stdout",
     "output_type": "stream",
     "text": [
      "Accuracy Score is: 0.77\n",
      "\n",
      "\n",
      "Classification Report:               precision    recall  f1-score   support\n",
      "\n",
      "           0       0.79      0.76      0.78       157\n",
      "           1       0.75      0.78      0.76       143\n",
      "\n",
      "    accuracy                           0.77       300\n",
      "   macro avg       0.77      0.77      0.77       300\n",
      "weighted avg       0.77      0.77      0.77       300\n",
      "\n",
      "\n",
      "\n",
      "Confusion Matrix: [[119  38]\n",
      " [ 31 112]]\n"
     ]
    }
   ],
   "source": [
    "from sklearn.metrics import accuracy_score,classification_report,confusion_matrix\n",
    "print(\"Accuracy Score is:\",accuracy_score(y_pred1,y_test))\n",
    "print('\\n')\n",
    "print(\"Classification Report:\",classification_report(y_pred1,y_test))\n",
    "print('\\n')\n",
    "print('Confusion Matrix:',confusion_matrix(y_pred1,y_test))"
   ]
  },
  {
   "cell_type": "markdown",
   "id": "bbfce2d6",
   "metadata": {},
   "source": [
    "PIPELINE USING COUNTVECTORIZER AND SVC"
   ]
  },
  {
   "cell_type": "code",
   "execution_count": 74,
   "id": "e4a5085b",
   "metadata": {},
   "outputs": [],
   "source": [
    "my_pipeline = Pipeline(steps=[('Countvectorizer', CountVectorizer()),\n",
    "                             ('Model', SVC())])"
   ]
  },
  {
   "cell_type": "code",
   "execution_count": 75,
   "id": "a9bda1e3",
   "metadata": {},
   "outputs": [
    {
     "data": {
      "text/plain": [
       "Pipeline(steps=[('Countvectorizer', CountVectorizer()), ('Model', SVC())])"
      ]
     },
     "execution_count": 75,
     "metadata": {},
     "output_type": "execute_result"
    }
   ],
   "source": [
    "my_pipeline.fit(X_train,y_train)"
   ]
  },
  {
   "cell_type": "code",
   "execution_count": 76,
   "id": "573b7a06",
   "metadata": {},
   "outputs": [],
   "source": [
    "y_pred2 = my_pipeline.predict(X_test)"
   ]
  },
  {
   "cell_type": "code",
   "execution_count": 77,
   "id": "57a9083a",
   "metadata": {},
   "outputs": [
    {
     "name": "stdout",
     "output_type": "stream",
     "text": [
      "Accuracy Score is: 0.79\n",
      "\n",
      "\n",
      "Classification Report:               precision    recall  f1-score   support\n",
      "\n",
      "           0       0.79      0.79      0.79       149\n",
      "           1       0.79      0.79      0.79       151\n",
      "\n",
      "    accuracy                           0.79       300\n",
      "   macro avg       0.79      0.79      0.79       300\n",
      "weighted avg       0.79      0.79      0.79       300\n",
      "\n",
      "\n",
      "\n",
      "Confusion Matrix: [[118  31]\n",
      " [ 32 119]]\n"
     ]
    }
   ],
   "source": [
    "from sklearn.metrics import accuracy_score,classification_report,confusion_matrix\n",
    "print(\"Accuracy Score is:\",accuracy_score(y_pred2,y_test))\n",
    "print('\\n')\n",
    "print(\"Classification Report:\",classification_report(y_pred2,y_test))\n",
    "print('\\n')\n",
    "print('Confusion Matrix:',confusion_matrix(y_pred2,y_test))"
   ]
  },
  {
   "cell_type": "code",
   "execution_count": null,
   "id": "ecb51a2f",
   "metadata": {},
   "outputs": [],
   "source": [
    "Accuracy of SVC model without using pipeline : 77\n",
    "Accuracy of SVC model using pipeline         : 79  "
   ]
  },
  {
   "cell_type": "raw",
   "id": "53bda149",
   "metadata": {},
   "source": [
    "MultinomialNB model2"
   ]
  },
  {
   "cell_type": "code",
   "execution_count": 79,
   "id": "9e101627",
   "metadata": {},
   "outputs": [
    {
     "data": {
      "text/plain": [
       "MultinomialNB()"
      ]
     },
     "execution_count": 79,
     "metadata": {},
     "output_type": "execute_result"
    }
   ],
   "source": [
    "model2.fit(X_train_vect,y_train)"
   ]
  },
  {
   "cell_type": "code",
   "execution_count": 80,
   "id": "1d810687",
   "metadata": {},
   "outputs": [],
   "source": [
    "y_pred3 = model2.predict(X_test_vect)"
   ]
  },
  {
   "cell_type": "code",
   "execution_count": 81,
   "id": "9a198ed5",
   "metadata": {},
   "outputs": [
    {
     "data": {
      "text/plain": [
       "array([1, 1, 1, 0, 1, 1, 1, 1, 0, 1, 0, 0, 0, 1, 0, 1, 0, 1, 1, 0, 0, 0,\n",
       "       1, 1, 1, 1, 1, 1, 1, 1, 1, 0, 1, 0, 1, 1, 1, 1, 1, 1, 1, 1, 1, 0,\n",
       "       0, 1, 0, 1, 1, 0, 1, 0, 1, 0, 1, 1, 1, 0, 1, 1, 1, 0, 1, 1, 1, 0,\n",
       "       1, 1, 1, 0, 1, 1, 0, 1, 1, 0, 0, 1, 1, 0, 1, 1, 1, 0, 1, 0, 1, 1,\n",
       "       1, 1, 0, 0, 1, 1, 1, 1, 1, 0, 1, 1, 0, 0, 0, 0, 1, 1, 1, 1, 1, 1,\n",
       "       1, 1, 0, 0, 1, 1, 0, 1, 0, 0, 0, 0, 1, 1, 0, 1, 0, 1, 1, 1, 1, 0,\n",
       "       1, 0, 1, 1, 1, 0, 1, 0, 1, 1, 0, 1, 0, 0, 1, 0, 0, 0, 1, 1, 1, 0,\n",
       "       0, 1, 1, 1, 1, 0, 1, 1, 0, 1, 0, 1, 1, 1, 1, 1, 0, 1, 0, 0, 1, 1,\n",
       "       1, 1, 0, 0, 1, 1, 0, 0, 1, 1, 1, 1, 0, 0, 0, 0, 0, 0, 0, 0, 1, 1,\n",
       "       1, 1, 0, 1, 0, 1, 0, 0, 0, 1, 1, 1, 1, 0, 1, 1, 0, 0, 1, 1, 0, 0,\n",
       "       1, 0, 0, 0, 0, 0, 0, 1, 0, 0, 0, 0, 0, 0, 0, 1, 0, 0, 1, 0, 1, 1,\n",
       "       0, 0, 0, 0, 1, 0, 1, 1, 1, 1, 0, 0, 1, 1, 0, 1, 1, 1, 0, 0, 1, 0,\n",
       "       1, 1, 1, 1, 1, 1, 1, 1, 0, 1, 0, 0, 0, 0, 1, 0, 1, 1, 0, 1, 1, 1,\n",
       "       1, 1, 1, 1, 0, 1, 1, 1, 0, 1, 1, 0, 0, 1], dtype=int64)"
      ]
     },
     "execution_count": 81,
     "metadata": {},
     "output_type": "execute_result"
    }
   ],
   "source": [
    "y_pred3"
   ]
  },
  {
   "cell_type": "code",
   "execution_count": 82,
   "id": "58a2112c",
   "metadata": {},
   "outputs": [
    {
     "name": "stdout",
     "output_type": "stream",
     "text": [
      "Classification_report is:               precision    recall  f1-score   support\n",
      "\n",
      "           0       0.67      0.83      0.74       122\n",
      "           1       0.86      0.72      0.79       178\n",
      "\n",
      "    accuracy                           0.77       300\n",
      "   macro avg       0.77      0.78      0.76       300\n",
      "weighted avg       0.78      0.77      0.77       300\n",
      "\n",
      "\n",
      "\n",
      "Confusion Matrix is: [[101  21]\n",
      " [ 49 129]]\n",
      "\n",
      "\n",
      "Accuracy score is: 0.7666666666666667\n"
     ]
    }
   ],
   "source": [
    "print(\"Classification_report is:\",classification_report(y_pred3,y_test))\n",
    "print('\\n')\n",
    "print(\"Confusion Matrix is:\",confusion_matrix(y_pred3,y_test))\n",
    "print('\\n')\n",
    "print(\"Accuracy score is:\",accuracy_score(y_pred3,y_test))"
   ]
  },
  {
   "cell_type": "code",
   "execution_count": 83,
   "id": "828fb83e",
   "metadata": {},
   "outputs": [],
   "source": [
    "my_pipeline2 = Pipeline(steps=[('Countvectorizer', CountVectorizer()),\n",
    "                              ('Model', MultinomialNB())])"
   ]
  },
  {
   "cell_type": "code",
   "execution_count": 84,
   "id": "7a54e9f8",
   "metadata": {},
   "outputs": [
    {
     "data": {
      "text/plain": [
       "Pipeline(steps=[('Countvectorizer', CountVectorizer()),\n",
       "                ('Model', MultinomialNB())])"
      ]
     },
     "execution_count": 84,
     "metadata": {},
     "output_type": "execute_result"
    }
   ],
   "source": [
    "my_pipeline2.fit(X_train,y_train)"
   ]
  },
  {
   "cell_type": "code",
   "execution_count": 85,
   "id": "639a9a58",
   "metadata": {},
   "outputs": [],
   "source": [
    "y_pred4 = my_pipeline2.predict(X_test)"
   ]
  },
  {
   "cell_type": "code",
   "execution_count": 86,
   "id": "cb5f42ab",
   "metadata": {},
   "outputs": [
    {
     "data": {
      "text/plain": [
       "array([1, 0, 1, 0, 0, 1, 1, 1, 0, 0, 0, 0, 0, 1, 0, 1, 0, 1, 0, 0, 0, 0,\n",
       "       0, 0, 1, 1, 1, 1, 1, 1, 1, 0, 1, 0, 1, 1, 0, 0, 1, 1, 1, 1, 1, 0,\n",
       "       0, 1, 0, 0, 1, 0, 0, 0, 0, 0, 1, 1, 0, 0, 1, 1, 1, 0, 0, 1, 0, 0,\n",
       "       1, 1, 0, 0, 1, 1, 0, 1, 1, 0, 0, 1, 1, 0, 0, 1, 1, 0, 1, 0, 0, 1,\n",
       "       1, 1, 1, 0, 1, 1, 1, 1, 1, 0, 1, 1, 0, 0, 0, 1, 1, 0, 1, 1, 1, 1,\n",
       "       0, 1, 0, 0, 1, 1, 0, 1, 0, 0, 0, 0, 1, 1, 0, 0, 0, 1, 1, 1, 1, 0,\n",
       "       1, 0, 1, 1, 1, 0, 1, 1, 0, 1, 0, 1, 0, 0, 1, 0, 0, 0, 1, 1, 1, 0,\n",
       "       0, 1, 1, 0, 1, 0, 1, 1, 0, 1, 0, 1, 1, 1, 1, 1, 0, 1, 0, 0, 1, 1,\n",
       "       0, 1, 0, 1, 1, 1, 0, 0, 1, 1, 1, 1, 0, 1, 0, 0, 0, 0, 0, 0, 1, 1,\n",
       "       1, 1, 0, 1, 0, 1, 0, 0, 0, 1, 1, 1, 1, 0, 1, 1, 0, 0, 1, 1, 1, 0,\n",
       "       1, 0, 0, 0, 0, 0, 1, 0, 0, 0, 0, 0, 1, 0, 0, 1, 0, 0, 1, 0, 1, 1,\n",
       "       0, 1, 0, 0, 1, 0, 1, 1, 0, 1, 0, 0, 1, 1, 0, 1, 1, 1, 0, 1, 1, 0,\n",
       "       1, 1, 0, 1, 1, 1, 1, 1, 0, 1, 0, 0, 1, 0, 0, 0, 1, 1, 0, 0, 1, 1,\n",
       "       1, 1, 1, 1, 1, 1, 1, 1, 0, 0, 1, 0, 1, 1], dtype=int64)"
      ]
     },
     "execution_count": 86,
     "metadata": {},
     "output_type": "execute_result"
    }
   ],
   "source": [
    "y_pred4"
   ]
  },
  {
   "cell_type": "code",
   "execution_count": 87,
   "id": "14a4843f",
   "metadata": {},
   "outputs": [
    {
     "name": "stdout",
     "output_type": "stream",
     "text": [
      "Classification_report is:               precision    recall  f1-score   support\n",
      "\n",
      "           0       0.77      0.83      0.80       138\n",
      "           1       0.85      0.78      0.81       162\n",
      "\n",
      "    accuracy                           0.81       300\n",
      "   macro avg       0.81      0.81      0.81       300\n",
      "weighted avg       0.81      0.81      0.81       300\n",
      "\n",
      "\n",
      "\n",
      "Confusion Matrix is: [[115  23]\n",
      " [ 35 127]]\n",
      "\n",
      "\n",
      "Accuracy score is: 0.8066666666666666\n"
     ]
    }
   ],
   "source": [
    "print(\"Classification_report is:\",classification_report(y_pred4,y_test))\n",
    "print('\\n')\n",
    "print(\"Confusion Matrix is:\",confusion_matrix(y_pred4,y_test))\n",
    "print('\\n')\n",
    "print(\"Accuracy score is:\",accuracy_score(y_pred4,y_test))"
   ]
  },
  {
   "cell_type": "code",
   "execution_count": null,
   "id": "529e71f6",
   "metadata": {},
   "outputs": [],
   "source": [
    "Accuracy in direct method   : 76\n",
    "Accuracy in pipeline method : 80"
   ]
  },
  {
   "cell_type": "code",
   "execution_count": 88,
   "id": "2a4940b3",
   "metadata": {},
   "outputs": [],
   "source": [
    "from sklearn.linear_model import LogisticRegression\n",
    "from sklearn.ensemble import RandomForestClassifier\n",
    "from xgboost import XGBClassifier"
   ]
  },
  {
   "cell_type": "code",
   "execution_count": 149,
   "id": "0e93c46a",
   "metadata": {},
   "outputs": [],
   "source": [
    "my_pipeline3 = Pipeline(steps=[('Countvectorizer', CountVectorizer()),\n",
    "                              ('Model', LogisticRegression())])"
   ]
  },
  {
   "cell_type": "code",
   "execution_count": 150,
   "id": "7e0b31af",
   "metadata": {},
   "outputs": [
    {
     "data": {
      "text/plain": [
       "Pipeline(steps=[('Countvectorizer', CountVectorizer()),\n",
       "                ('Model', LogisticRegression(max_iter=3000))])"
      ]
     },
     "execution_count": 150,
     "metadata": {},
     "output_type": "execute_result"
    }
   ],
   "source": [
    "my_pipeline3.fit(X_train,y_train)"
   ]
  },
  {
   "cell_type": "code",
   "execution_count": 151,
   "id": "4e47a632",
   "metadata": {},
   "outputs": [],
   "source": [
    "y_pred5 = my_pipeline3.predict(X_test)"
   ]
  },
  {
   "cell_type": "code",
   "execution_count": 152,
   "id": "eb2cad41",
   "metadata": {},
   "outputs": [
    {
     "name": "stdout",
     "output_type": "stream",
     "text": [
      "Classification_report is:               precision    recall  f1-score   support\n",
      "\n",
      "           0       0.78      0.84      0.81       140\n",
      "           1       0.85      0.79      0.82       160\n",
      "\n",
      "    accuracy                           0.81       300\n",
      "   macro avg       0.81      0.81      0.81       300\n",
      "weighted avg       0.82      0.81      0.81       300\n",
      "\n",
      "\n",
      "\n",
      "Confusion Matrix is: [[117  23]\n",
      " [ 33 127]]\n",
      "\n",
      "\n",
      "Accuracy score is: 0.8133333333333334\n"
     ]
    }
   ],
   "source": [
    "print(\"Classification_report is:\",classification_report(y_pred5,y_test))\n",
    "print('\\n')\n",
    "print(\"Confusion Matrix is:\",confusion_matrix(y_pred5,y_test))\n",
    "print('\\n')\n",
    "print(\"Accuracy score is:\",accuracy_score(y_pred5,y_test))"
   ]
  },
  {
   "cell_type": "code",
   "execution_count": 93,
   "id": "5d760cb7",
   "metadata": {},
   "outputs": [],
   "source": [
    "my_pipeline4 = Pipeline(steps=[('Countvectorizer', CountVectorizer()),\n",
    "                              ('Model', RandomForestClassifier())])"
   ]
  },
  {
   "cell_type": "code",
   "execution_count": 94,
   "id": "181fc5dc",
   "metadata": {},
   "outputs": [
    {
     "data": {
      "text/plain": [
       "Pipeline(steps=[('Countvectorizer', CountVectorizer()),\n",
       "                ('Model', RandomForestClassifier())])"
      ]
     },
     "execution_count": 94,
     "metadata": {},
     "output_type": "execute_result"
    }
   ],
   "source": [
    "my_pipeline4.fit(X_train,y_train)"
   ]
  },
  {
   "cell_type": "code",
   "execution_count": 95,
   "id": "57a3317e",
   "metadata": {},
   "outputs": [],
   "source": [
    "y_pred6 = my_pipeline4.predict(X_test)"
   ]
  },
  {
   "cell_type": "code",
   "execution_count": 96,
   "id": "dc7db904",
   "metadata": {},
   "outputs": [
    {
     "name": "stdout",
     "output_type": "stream",
     "text": [
      "Classification_report is:               precision    recall  f1-score   support\n",
      "\n",
      "           0       0.75      0.82      0.78       138\n",
      "           1       0.83      0.77      0.80       162\n",
      "\n",
      "    accuracy                           0.79       300\n",
      "   macro avg       0.79      0.80      0.79       300\n",
      "weighted avg       0.80      0.79      0.79       300\n",
      "\n",
      "\n",
      "\n",
      "Confusion Matrix is: [[113  25]\n",
      " [ 37 125]]\n",
      "\n",
      "\n",
      "Accuracy score is: 0.7933333333333333\n"
     ]
    }
   ],
   "source": [
    "print(\"Classification_report is:\",classification_report(y_pred6,y_test))\n",
    "print('\\n')\n",
    "print(\"Confusion Matrix is:\",confusion_matrix(y_pred6,y_test))\n",
    "print('\\n')\n",
    "print(\"Accuracy score is:\",accuracy_score(y_pred6,y_test))"
   ]
  },
  {
   "cell_type": "code",
   "execution_count": 137,
   "id": "be8831e2",
   "metadata": {},
   "outputs": [],
   "source": [
    "my_pipeline5 = Pipeline(steps=[('Countvectorizer', CountVectorizer()),\n",
    "                              ('Model', XGBClassifier(learning_rate=0.1, n_estimators=100))])"
   ]
  },
  {
   "cell_type": "code",
   "execution_count": 138,
   "id": "31c98f9e",
   "metadata": {},
   "outputs": [
    {
     "name": "stderr",
     "output_type": "stream",
     "text": [
      "c:\\users\\lenovo\\desktop\\lib\\site-packages\\xgboost\\sklearn.py:1146: UserWarning: The use of label encoder in XGBClassifier is deprecated and will be removed in a future release. To remove this warning, do the following: 1) Pass option use_label_encoder=False when constructing XGBClassifier object; and 2) Encode your labels (y) as integers starting with 0, i.e. 0, 1, 2, ..., [num_class - 1].\n",
      "  warnings.warn(label_encoder_deprecation_msg, UserWarning)\n"
     ]
    },
    {
     "name": "stdout",
     "output_type": "stream",
     "text": [
      "[14:39:56] WARNING: C:/Users/Administrator/workspace/xgboost-win64_release_1.4.0/src/learner.cc:1095: Starting in XGBoost 1.3.0, the default evaluation metric used with the objective 'binary:logistic' was changed from 'error' to 'logloss'. Explicitly set eval_metric if you'd like to restore the old behavior.\n"
     ]
    },
    {
     "data": {
      "text/plain": [
       "Pipeline(steps=[('Countvectorizer', CountVectorizer()),\n",
       "                ('Model',\n",
       "                 XGBClassifier(base_score=0.5, booster='gbtree',\n",
       "                               colsample_bylevel=1, colsample_bynode=1,\n",
       "                               colsample_bytree=1, gamma=0, gpu_id=-1,\n",
       "                               importance_type='gain',\n",
       "                               interaction_constraints='', learning_rate=0.1,\n",
       "                               max_delta_step=0, max_depth=6,\n",
       "                               min_child_weight=1, missing=nan,\n",
       "                               monotone_constraints='()', n_estimators=100,\n",
       "                               n_jobs=2, num_parallel_tree=1, random_state=0,\n",
       "                               reg_alpha=0, reg_lambda=1, scale_pos_weight=1,\n",
       "                               subsample=1, tree_method='exact',\n",
       "                               validate_parameters=1, verbosity=None))])"
      ]
     },
     "execution_count": 138,
     "metadata": {},
     "output_type": "execute_result"
    }
   ],
   "source": [
    "my_pipeline5.fit(X_train,y_train)"
   ]
  },
  {
   "cell_type": "code",
   "execution_count": 139,
   "id": "89ea42c5",
   "metadata": {},
   "outputs": [],
   "source": [
    "y_pred7 = my_pipeline5.predict(X_test)"
   ]
  },
  {
   "cell_type": "code",
   "execution_count": 140,
   "id": "1606d162",
   "metadata": {},
   "outputs": [
    {
     "name": "stdout",
     "output_type": "stream",
     "text": [
      "Classification_report is:               precision    recall  f1-score   support\n",
      "\n",
      "           0       0.75      0.75      0.75       149\n",
      "           1       0.75      0.75      0.75       151\n",
      "\n",
      "    accuracy                           0.75       300\n",
      "   macro avg       0.75      0.75      0.75       300\n",
      "weighted avg       0.75      0.75      0.75       300\n",
      "\n",
      "\n",
      "\n",
      "Confusion Matrix is: [[112  37]\n",
      " [ 38 113]]\n",
      "\n",
      "\n",
      "Accuracy score is: 0.75\n"
     ]
    }
   ],
   "source": [
    "print(\"Classification_report is:\",classification_report(y_pred7,y_test))\n",
    "print('\\n')\n",
    "print(\"Confusion Matrix is:\",confusion_matrix(y_pred7,y_test))\n",
    "print('\\n')\n",
    "print(\"Accuracy score is:\",accuracy_score(y_pred7,y_test))"
   ]
  },
  {
   "cell_type": "code",
   "execution_count": null,
   "id": "f5e90898",
   "metadata": {},
   "outputs": [],
   "source": [
    "Finally Logistic Regression is performing well from the above algorithms with 81.33% accuracy\n",
    "To select from the Listed Four algorithms Multinomial with pipeline method notched up with 80% accuracy"
   ]
  },
  {
   "cell_type": "code",
   "execution_count": null,
   "id": "d16802b5",
   "metadata": {},
   "outputs": [],
   "source": [
    "So I take Logistic regression to further proceed with streamlit app "
   ]
  },
  {
   "cell_type": "code",
   "execution_count": 153,
   "id": "f1953e3a",
   "metadata": {},
   "outputs": [],
   "source": [
    "import joblib"
   ]
  },
  {
   "cell_type": "code",
   "execution_count": 154,
   "id": "2b9c72fd",
   "metadata": {},
   "outputs": [
    {
     "data": {
      "text/plain": [
       "['Best_model']"
      ]
     },
     "execution_count": 154,
     "metadata": {},
     "output_type": "execute_result"
    }
   ],
   "source": [
    "joblib.dump(my_pipeline3,'Best_model')"
   ]
  },
  {
   "cell_type": "code",
   "execution_count": 155,
   "id": "62144b84",
   "metadata": {},
   "outputs": [],
   "source": [
    "test = joblib.load('Best_model')"
   ]
  },
  {
   "cell_type": "code",
   "execution_count": 156,
   "id": "fe355275",
   "metadata": {},
   "outputs": [
    {
     "data": {
      "text/plain": [
       "array([1], dtype=int64)"
      ]
     },
     "execution_count": 156,
     "metadata": {},
     "output_type": "execute_result"
    }
   ],
   "source": [
    "test.predict([\"I like this food\"])"
   ]
  },
  {
   "cell_type": "code",
   "execution_count": 157,
   "id": "94822719",
   "metadata": {},
   "outputs": [
    {
     "data": {
      "text/plain": [
       "array([0], dtype=int64)"
      ]
     },
     "execution_count": 157,
     "metadata": {},
     "output_type": "execute_result"
    }
   ],
   "source": [
    "test.predict([\"hate their service\"])"
   ]
  },
  {
   "cell_type": "code",
   "execution_count": null,
   "id": "99c0e8ee",
   "metadata": {},
   "outputs": [],
   "source": []
  }
 ],
 "metadata": {
  "kernelspec": {
   "display_name": "Python 3",
   "language": "python",
   "name": "python3"
  },
  "language_info": {
   "codemirror_mode": {
    "name": "ipython",
    "version": 3
   },
   "file_extension": ".py",
   "mimetype": "text/x-python",
   "name": "python",
   "nbconvert_exporter": "python",
   "pygments_lexer": "ipython3",
   "version": "3.9.5"
  }
 },
 "nbformat": 4,
 "nbformat_minor": 5
}
